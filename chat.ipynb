{
 "cells": [
  {
   "cell_type": "code",
   "execution_count": null,
   "id": "c9bc2cc8",
   "metadata": {},
   "outputs": [],
   "source": [
    "import requests\n",
    "from typing import Optional, List, Dict, Any\n",
    "from langchain.llms.base import LLM\n",
    "\n",
    "class LocalLLM(LLM):\n",
    "    # ประกาศฟิลด์ให้ Pydantic รู้จัก\n",
    "    api_url: str\n",
    "    model_name: str\n",
    "\n",
    "    @property\n",
    "    def _llm_type(self) -> str:\n",
    "        \"\"\"ชื่อชนิดของ LLM เพื่อ logging ภายใน LangChain\"\"\"\n",
    "        return \"local_llm\"\n",
    "\n",
    "    @property\n",
    "    def _identifying_params(self) -> Dict[str, Any]:\n",
    "        return {\"model\": self.model_name, \"api_url\": self.api_url}\n",
    "\n",
    "    def _call(\n",
    "        self,\n",
    "        prompt: str,\n",
    "        stop: Optional[List[str]] = None,\n",
    "        **kwargs: Any,\n",
    "    ) -> str:\n",
    "        \"\"\"เรียก API และคืน response มาเป็นสตริง\"\"\"\n",
    "        res = requests.post(\n",
    "            f\"{self.api_url}/api/generate\",\n",
    "            json={\n",
    "                \"model\": self.model_name,\n",
    "                \"prompt\": prompt,\n",
    "                \"stream\": False,\n",
    "            },\n",
    "        )\n",
    "        res.raise_for_status()\n",
    "        return res.json().get(\"response\", \"\")\n",
    "\n",
    "API_URL = \"http://localhost:11434\"\n",
    "MODEL_NAME = \"scb10x/typhoon2.1-gemma3-4b:latest\"\n",
    "llm = LocalLLM(api_url=API_URL, model_name=MODEL_NAME)\n"
   ]
  },
  {
   "cell_type": "code",
   "execution_count": 10,
   "id": "8e07ef39",
   "metadata": {},
   "outputs": [
    {
     "ename": "ModuleNotFoundError",
     "evalue": "No module named 'openai'",
     "output_type": "error",
     "traceback": [
      "\u001b[31m---------------------------------------------------------------------------\u001b[39m",
      "\u001b[31mModuleNotFoundError\u001b[39m                       Traceback (most recent call last)",
      "\u001b[36mCell\u001b[39m\u001b[36m \u001b[39m\u001b[32mIn[10]\u001b[39m\u001b[32m, line 2\u001b[39m\n\u001b[32m      1\u001b[39m \u001b[38;5;66;03m# ใช้งาน LLM ผ่าน DeepInfra (OpenAI compatible API)\u001b[39;00m\n\u001b[32m----> \u001b[39m\u001b[32m2\u001b[39m \u001b[38;5;28;01mfrom\u001b[39;00m\u001b[38;5;250m \u001b[39m\u001b[34;01mopenai\u001b[39;00m\u001b[38;5;250m \u001b[39m\u001b[38;5;28;01mimport\u001b[39;00m OpenAI\n\u001b[32m      3\u001b[39m \u001b[38;5;28;01mfrom\u001b[39;00m\u001b[38;5;250m \u001b[39m\u001b[34;01mtyping\u001b[39;00m\u001b[38;5;250m \u001b[39m\u001b[38;5;28;01mimport\u001b[39;00m Optional, List, Dict, Any\n\u001b[32m      4\u001b[39m \u001b[38;5;28;01mfrom\u001b[39;00m\u001b[38;5;250m \u001b[39m\u001b[34;01mlangchain\u001b[39;00m\u001b[34;01m.\u001b[39;00m\u001b[34;01mllms\u001b[39;00m\u001b[34;01m.\u001b[39;00m\u001b[34;01mbase\u001b[39;00m\u001b[38;5;250m \u001b[39m\u001b[38;5;28;01mimport\u001b[39;00m LLM\n",
      "\u001b[31mModuleNotFoundError\u001b[39m: No module named 'openai'"
     ]
    }
   ],
   "source": [
    "# ใช้งาน LLM ผ่าน DeepInfra (OpenAI compatible API)\n",
    "from openai import OpenAI\n",
    "from typing import Optional, List, Dict, Any\n",
    "from langchain.llms.base import LLM\n",
    "\n",
    "class DeepInfraLLM(LLM):\n",
    "    api_key: str\n",
    "    base_url: str\n",
    "    model_name: str\n",
    "\n",
    "    def __init__(self, **kwargs):\n",
    "        super().__init__(**kwargs)\n",
    "        self.client = OpenAI(api_key=self.api_key, base_url=self.base_url)\n",
    "\n",
    "    @property\n",
    "    def _llm_type(self) -> str:\n",
    "        return \"deepinfra_llm\"\n",
    "\n",
    "    @property\n",
    "    def _identifying_params(self) -> Dict[str, Any]:\n",
    "        return {\"model\": self.model_name, \"base_url\": self.base_url}\n",
    "\n",
    "    def _call(\n",
    "        self,\n",
    "        prompt: str,\n",
    "        stop: Optional[List[str]] = None,\n",
    "        **kwargs: Any,\n",
    "    ) -> str:\n",
    "        messages = [{\"role\": \"user\", \"content\": prompt}]\n",
    "        response = self.client.chat.completions.create(\n",
    "            model=self.model_name,\n",
    "            messages=messages,\n",
    "        )\n",
    "        return response.choices[0].message.content\n",
    "\n",
    "# ตั้งค่า DeepInfra\n",
    "DEEPINFRA_API_KEY = \"iaLJrht7O6tDk1KOn6lyE20RUD6Nof7U\"\n",
    "DEEPINFRA_BASE_URL = \"https://api.deepinfra.com/v1/openai\"\n",
    "DEEPINFRA_MODEL = \"deepseek-ai/DeepSeek-R1-Turbo\"\n",
    "\n",
    "llm = DeepInfraLLM(\n",
    "    api_key=DEEPINFRA_API_KEY,\n",
    "    base_url=DEEPINFRA_BASE_URL,\n",
    "    model_name=DEEPINFRA_MODEL\n",
    ")"
   ]
  },
  {
   "cell_type": "code",
   "execution_count": 5,
   "id": "08ee5197",
   "metadata": {},
   "outputs": [
    {
     "name": "stderr",
     "output_type": "stream",
     "text": [
      "C:\\Users\\Arther\\AppData\\Local\\Temp\\ipykernel_23032\\2569073825.py:3: LangChainDeprecationWarning: The class `HuggingFaceEmbeddings` was deprecated in LangChain 0.2.2 and will be removed in 1.0. An updated version of the class exists in the :class:`~langchain-huggingface package and should be used instead. To use it run `pip install -U :class:`~langchain-huggingface` and import as `from :class:`~langchain_huggingface import HuggingFaceEmbeddings``.\n",
      "  embeddings = HuggingFaceEmbeddings(model_name=\"BAAI/bge-m3\")\n",
      "d:\\TTT_Trainee\\Project_1\\AI-ChatbotBackend\\.venv\\Lib\\site-packages\\tqdm\\auto.py:21: TqdmWarning: IProgress not found. Please update jupyter and ipywidgets. See https://ipywidgets.readthedocs.io/en/stable/user_install.html\n",
      "  from .autonotebook import tqdm as notebook_tqdm\n"
     ]
    }
   ],
   "source": [
    "from langchain.embeddings import HuggingFaceEmbeddings\n",
    "# Wrap SentenceTransformer ผ่าน LangChain\n",
    "embeddings = HuggingFaceEmbeddings(model_name=\"BAAI/bge-m3\")"
   ]
  },
  {
   "cell_type": "code",
   "execution_count": 6,
   "id": "43606902",
   "metadata": {},
   "outputs": [],
   "source": [
    "from langchain.document_loaders import TextLoader\n",
    "import glob\n",
    "\n",
    "paths = glob.glob(\"Raw-data-from-TTT\\**\\*.txt\", recursive=True)\n",
    "documents = []\n",
    "for p in paths:\n",
    "    loader = TextLoader(p, encoding=\"utf-8\")\n",
    "    documents.extend(loader.load())\n"
   ]
  },
  {
   "cell_type": "code",
   "execution_count": 7,
   "id": "2b519abe",
   "metadata": {},
   "outputs": [],
   "source": [
    "from langchain.vectorstores import FAISS\n",
    "# สร้างและเก็บ Document embeddings ลงใน FAISS index\n",
    "vectorstore = FAISS.from_documents(documents, embeddings)\n",
    "# บันทึก index ไว้ใช้งานครั้งถัดไป\n",
    "vectorstore.save_local(\"faiss_index\")"
   ]
  },
  {
   "cell_type": "code",
   "execution_count": 8,
   "id": "750a70f2",
   "metadata": {},
   "outputs": [
    {
     "name": "stderr",
     "output_type": "stream",
     "text": [
      "C:\\Users\\Arther\\AppData\\Local\\Temp\\ipykernel_23032\\1769046932.py:27: LangChainDeprecationWarning: Please see the migration guide at: https://python.langchain.com/docs/versions/migrating_memory/\n",
      "  memory = ConversationBufferMemory(memory_key=\"chat_history\", return_messages=True)\n"
     ]
    }
   ],
   "source": [
    "from langchain.chains import ConversationalRetrievalChain\n",
    "from langchain.memory import ConversationBufferMemory\n",
    "from langchain.prompts import PromptTemplate\n",
    "\n",
    "# Custom prompt template\n",
    "custom_template = \"\"\"\n",
    "บทสนทนาที่ผ่านมา:\n",
    "{chat_history}\n",
    "\n",
    "ใช้บริบทต่อไปนี้ในการตอบคำถามที่อยู่ท้ายบท\n",
    "ผมคือ TTT-Assistant ผู้ช่วย AI ของบริษัท TTT Brothers Co., Ltd.\n",
    "หากคุณไม่ทราบคำตอบ ให้ตอบเพียงว่าคุณไม่ทราบ อย่าพยายามแต่งคำตอบขึ้นมา\n",
    "\n",
    "ข้อมูลที่มี:\n",
    "{context}\n",
    "\n",
    "คำถาม: {question}\n",
    "\n",
    "คำตอบ: \"\"\"\n",
    "\n",
    "CUSTOM_PROMPT = PromptTemplate(\n",
    "    template=custom_template,\n",
    "    input_variables=[\"chat_history\", \"context\", \"question\"]\n",
    ")\n",
    "\n",
    "# สร้าง Memory\n",
    "memory = ConversationBufferMemory(memory_key=\"chat_history\", return_messages=True)\n",
    "\n",
    "# สร้าง QA Chain\n",
    "qa_chain = ConversationalRetrievalChain.from_llm(\n",
    "    llm=llm,\n",
    "    retriever=vectorstore.as_retriever(search_kwargs={\"k\": 2}),\n",
    "    memory=memory,\n",
    "    combine_docs_chain_kwargs={\"prompt\": CUSTOM_PROMPT}\n",
    ")"
   ]
  },
  {
   "cell_type": "code",
   "execution_count": 9,
   "id": "537c9686",
   "metadata": {},
   "outputs": [
    {
     "name": "stderr",
     "output_type": "stream",
     "text": [
      "C:\\Users\\Arther\\AppData\\Local\\Temp\\ipykernel_23032\\236019450.py:4: LangChainDeprecationWarning: The method `Chain.__call__` was deprecated in langchain 0.1.0 and will be removed in 1.0. Use :meth:`~invoke` instead.\n",
      "  result = qa_chain({\"question\": question})\n"
     ]
    },
    {
     "name": "stdout",
     "output_type": "stream",
     "text": [
      "Chat history:\n",
      " {'chat_history': [HumanMessage(content='แปลว่าอะไรครับ', additional_kwargs={}, response_metadata={}), AIMessage(content='ผมไม่ทราบ', additional_kwargs={}, response_metadata={})]}\n",
      "ผมไม่ทราบ\n"
     ]
    }
   ],
   "source": [
    "# คำถามตัวอย่าง\n",
    "question = \"สวัสดี\"\n",
    "# เรียก chain พร้อมส่งคำถาม\n",
    "result = qa_chain({\"question\": question})\n",
    "\n",
    "# ดูประวัติการสนทนา\n",
    "print(\"Chat history:\\n\", memory.load_memory_variables({}))\n",
    "\n",
    "print(result.get(\"answer\"))"
   ]
  }
 ],
 "metadata": {
  "kernelspec": {
   "display_name": ".venv",
   "language": "python",
   "name": "python3"
  },
  "language_info": {
   "codemirror_mode": {
    "name": "ipython",
    "version": 3
   },
   "file_extension": ".py",
   "mimetype": "text/x-python",
   "name": "python",
   "nbconvert_exporter": "python",
   "pygments_lexer": "ipython3",
   "version": "3.11.0"
  }
 },
 "nbformat": 4,
 "nbformat_minor": 5
}
