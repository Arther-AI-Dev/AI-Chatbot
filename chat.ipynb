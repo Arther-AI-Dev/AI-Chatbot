{
 "cells": [
  {
   "cell_type": "code",
   "execution_count": 35,
   "id": "c9bc2cc8",
   "metadata": {},
   "outputs": [],
   "source": [
    "import requests\n",
    "from typing import Optional, List, Dict, Any\n",
    "from langchain.llms.base import LLM\n",
    "\n",
    "class LocalLLM(LLM):\n",
    "    # ประกาศฟิลด์ให้ Pydantic รู้จัก\n",
    "    api_url: str\n",
    "    model_name: str\n",
    "\n",
    "    @property\n",
    "    def _llm_type(self) -> str:\n",
    "        \"\"\"ชื่อชนิดของ LLM เพื่อ logging ภายใน LangChain\"\"\"\n",
    "        return \"local_llm\"\n",
    "\n",
    "    @property\n",
    "    def _identifying_params(self) -> Dict[str, Any]:\n",
    "        return {\"model\": self.model_name, \"api_url\": self.api_url}\n",
    "\n",
    "    def _call(\n",
    "        self,\n",
    "        prompt: str,\n",
    "        stop: Optional[List[str]] = None,\n",
    "        **kwargs: Any,\n",
    "    ) -> str:\n",
    "        \"\"\"เรียก API และคืน response มาเป็นสตริง\"\"\"\n",
    "        res = requests.post(\n",
    "            f\"{self.api_url}/api/generate\",\n",
    "            json={\n",
    "                \"model\": self.model_name,\n",
    "                \"prompt\": prompt,\n",
    "                \"stream\": False,\n",
    "            },\n",
    "        )\n",
    "        res.raise_for_status()\n",
    "        return res.json().get(\"response\", \"\")\n",
    "\n",
    "API_URL = \"http://localhost:11434\"\n",
    "MODEL_NAME = \"scb10x/typhoon2.1-gemma3-4b:latest\"\n",
    "llm = LocalLLM(api_url=API_URL, model_name=MODEL_NAME)\n"
   ]
  },
  {
   "cell_type": "code",
   "execution_count": 36,
   "id": "08ee5197",
   "metadata": {},
   "outputs": [],
   "source": [
    "from langchain.embeddings import HuggingFaceEmbeddings\n",
    "# Wrap SentenceTransformer ผ่าน LangChain\n",
    "embeddings = HuggingFaceEmbeddings(model_name=\"BAAI/bge-m3\")"
   ]
  },
  {
   "cell_type": "code",
   "execution_count": 37,
   "id": "43606902",
   "metadata": {},
   "outputs": [],
   "source": [
    "from langchain.document_loaders import TextLoader\n",
    "import glob\n",
    "\n",
    "paths = glob.glob(\"Raw-data-from-TTT\\**\\*.txt\", recursive=True)\n",
    "documents = []\n",
    "for p in paths:\n",
    "    loader = TextLoader(p, encoding=\"utf-8\")\n",
    "    documents.extend(loader.load())\n"
   ]
  },
  {
   "cell_type": "code",
   "execution_count": 38,
   "id": "2b519abe",
   "metadata": {},
   "outputs": [],
   "source": [
    "from langchain.vectorstores import FAISS\n",
    "# สร้างและเก็บ Document embeddings ลงใน FAISS index\n",
    "vectorstore = FAISS.from_documents(documents, embeddings)\n",
    "# บันทึก index ไว้ใช้งานครั้งถัดไป\n",
    "vectorstore.save_local(\"faiss_index\")"
   ]
  },
  {
   "cell_type": "code",
   "execution_count": 39,
   "id": "750a70f2",
   "metadata": {},
   "outputs": [],
   "source": [
    "from langchain.chains import ConversationalRetrievalChain\n",
    "from langchain.memory import ConversationBufferMemory\n",
    "from langchain.prompts import PromptTemplate\n",
    "\n",
    "# Custom prompt template\n",
    "custom_template = \"\"\"\n",
    "บทสนทนาที่ผ่านมา:\n",
    "{chat_history}\n",
    "\n",
    "ใช้บริบทต่อไปนี้ในการตอบคำถามที่อยู่ท้ายบท\n",
    "ผมคือ TTT-Assistant ผู้ช่วย AI ของบริษัท TTT Brothers Co., Ltd.\n",
    "หากคุณไม่ทราบคำตอบ ให้ตอบเพียงว่าคุณไม่ทราบ อย่าพยายามแต่งคำตอบขึ้นมา\n",
    "\n",
    "ข้อมูลที่มี:\n",
    "{context}\n",
    "\n",
    "คำถาม: {question}\n",
    "\n",
    "คำตอบ: \"\"\"\n",
    "\n",
    "CUSTOM_PROMPT = PromptTemplate(\n",
    "    template=custom_template,\n",
    "    input_variables=[\"chat_history\", \"context\", \"question\"]\n",
    ")\n",
    "\n",
    "# สร้าง Memory\n",
    "memory = ConversationBufferMemory(memory_key=\"chat_history\", return_messages=True)\n",
    "\n",
    "# สร้าง QA Chain\n",
    "qa_chain = ConversationalRetrievalChain.from_llm(\n",
    "    llm=llm,\n",
    "    retriever=vectorstore.as_retriever(search_kwargs={\"k\": 2}),\n",
    "    memory=memory,\n",
    "    combine_docs_chain_kwargs={\"prompt\": CUSTOM_PROMPT}\n",
    ")"
   ]
  },
  {
   "cell_type": "code",
   "execution_count": 41,
   "id": "537c9686",
   "metadata": {},
   "outputs": [
    {
     "name": "stdout",
     "output_type": "stream",
     "text": [
      "Chat history:\n",
      " {'chat_history': [HumanMessage(content='วิสัยทัศน์ของบริษัทคืออะไร?', additional_kwargs={}, response_metadata={}), AIMessage(content='วิสัยทัศน์ของบริษัทคือ \"how the world works simplifying\"', additional_kwargs={}, response_metadata={}), HumanMessage(content='แปลว่าอะไรครับ', additional_kwargs={}, response_metadata={}), AIMessage(content='คำตอบ: ผมไม่ทราบ', additional_kwargs={}, response_metadata={})]}\n",
      "คำตอบ: ผมไม่ทราบ\n"
     ]
    }
   ],
   "source": [
    "# คำถามตัวอย่าง\n",
    "question = \"แปลว่าอะไรครับ\"\n",
    "# เรียก chain พร้อมส่งคำถาม\n",
    "result = qa_chain({\"question\": question})\n",
    "\n",
    "# ดูประวัติการสนทนา\n",
    "print(\"Chat history:\\n\", memory.load_memory_variables({}))\n",
    "\n",
    "print(result.get(\"answer\"))"
   ]
  }
 ],
 "metadata": {
  "kernelspec": {
   "display_name": ".venv",
   "language": "python",
   "name": "python3"
  },
  "language_info": {
   "codemirror_mode": {
    "name": "ipython",
    "version": 3
   },
   "file_extension": ".py",
   "mimetype": "text/x-python",
   "name": "python",
   "nbconvert_exporter": "python",
   "pygments_lexer": "ipython3",
   "version": "3.11.0"
  }
 },
 "nbformat": 4,
 "nbformat_minor": 5
}
